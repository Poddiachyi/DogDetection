{
 "cells": [
  {
   "cell_type": "code",
   "execution_count": 14,
   "metadata": {
    "collapsed": true
   },
   "outputs": [],
   "source": [
    "import shutil\n",
    "import os\n",
    "from PIL import Image"
   ]
  },
  {
   "cell_type": "code",
   "execution_count": 49,
   "metadata": {
    "collapsed": true
   },
   "outputs": [],
   "source": [
    "ann_dir = 'annotations/'\n",
    "file_names = os.listdir(ann_dir)\n",
    "img_dir = 'train_renamed/'\n",
    "yolo_ann_dir = 'yolo_annotations/'"
   ]
  },
  {
   "cell_type": "code",
   "execution_count": 4,
   "metadata": {
    "collapsed": true
   },
   "outputs": [],
   "source": [
    "labels = []"
   ]
  },
  {
   "cell_type": "code",
   "execution_count": 5,
   "metadata": {},
   "outputs": [],
   "source": [
    "for file_name in file_names:\n",
    "    \n",
    "    label = file_name.split('_')[0]\n",
    "    labels.append(label)"
   ]
  },
  {
   "cell_type": "code",
   "execution_count": 7,
   "metadata": {},
   "outputs": [
    {
     "data": {
      "text/plain": [
       "120"
      ]
     },
     "execution_count": 7,
     "metadata": {},
     "output_type": "execute_result"
    }
   ],
   "source": [
    "len(set(labels))"
   ]
  },
  {
   "cell_type": "code",
   "execution_count": 47,
   "metadata": {
    "collapsed": true
   },
   "outputs": [],
   "source": [
    "def convert_back(size, box):\n",
    "    \n",
    "    #bad naming, yeah\n",
    "    \n",
    "    img_w = size[0]\n",
    "    img_h = size[1]\n",
    "    \n",
    "    x_b_c = box[0]  #box_converted\n",
    "    y_b_c = box[1]\n",
    "    w_b_c = box[2]\n",
    "    h_b_c = box[3]\n",
    "    \n",
    "    x_b = x_b_c * img_w #box\n",
    "    w_b = w_b_c * img_w\n",
    "    y_b = y_b_c * img_h\n",
    "    h_b = h_b_c * img_h\n",
    "    \n",
    "    w_half = w_b / 2\n",
    "    h_half = h_b / 2\n",
    "    \n",
    "    x_min = x_b - w_half\n",
    "    y_min = y_b - h_half\n",
    "    x_max = x_b + w_half\n",
    "    y_max = y_b + h_half\n",
    "    \n",
    "    \n",
    "    return (x_min, y_min, x_max, y_max)"
   ]
  },
  {
   "cell_type": "code",
   "execution_count": 38,
   "metadata": {
    "collapsed": true
   },
   "outputs": [],
   "source": [
    "def convert(size, box):\n",
    "    dw = 1 / size[0]\n",
    "    dh = 1 / size[1]\n",
    "    x = (box[0] + box[1]) / 2\n",
    "    y = (box[2] + box[3]) / 2\n",
    "    w = box[1] - box[0]\n",
    "    h = box[3] - box[2]\n",
    "    x = x * dw\n",
    "    w = w * dw\n",
    "    y = y * dh\n",
    "    h = h * dh\n",
    "    return (x, y, w, h)"
   ]
  },
  {
   "cell_type": "code",
   "execution_count": 56,
   "metadata": {},
   "outputs": [],
   "source": [
    "for file_name in file_names:\n",
    "    file_path = os.path.join(ann_dir, file_name)\n",
    "    \n",
    "        \n",
    "    lines = []\n",
    "    with open(file_path) as f:\n",
    "        lines = f.readlines()\n",
    "        \n",
    "    label = lines[0].strip()\n",
    "    elems = lines[1].split(' ')\n",
    "    \n",
    "    x_min = int(elems[0])\n",
    "    x_max = int(elems[2])\n",
    "    y_min = int(elems[1])\n",
    "    y_max = int(elems[3])\n",
    "        \n",
    "    img_name = file_name.split('.')[0] + '.jpg'\n",
    "    \n",
    "    img_path = os.path.join(img_dir, img_name)\n",
    "        \n",
    "    img = Image.open(img_path)\n",
    "    w, h = img.size\n",
    "    \n",
    "    box = (x_min, x_max, y_min, y_max)\n",
    "    converted_box = convert((w, h), box) #[object center in X] [object center in Y] [object width in X] [object width in Y]\n",
    "    \n",
    "    converted_back_box = convert_back((w, h), converted_box)\n",
    "    \n",
    "    \n",
    "    with open(os.path.join(yolo_ann_dir, file_name), 'w') as f:\n",
    "        f.write('{} {}'.format(label, ' '.join([str(item) for item in converted_box])))\n"
   ]
  },
  {
   "cell_type": "code",
   "execution_count": null,
   "metadata": {
    "collapsed": true
   },
   "outputs": [],
   "source": []
  }
 ],
 "metadata": {
  "kernelspec": {
   "display_name": "Python 3",
   "language": "python",
   "name": "python3"
  },
  "language_info": {
   "codemirror_mode": {
    "name": "ipython",
    "version": 3
   },
   "file_extension": ".py",
   "mimetype": "text/x-python",
   "name": "python",
   "nbconvert_exporter": "python",
   "pygments_lexer": "ipython3",
   "version": "3.6.3"
  }
 },
 "nbformat": 4,
 "nbformat_minor": 2
}
